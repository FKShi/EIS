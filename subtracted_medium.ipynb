{
 "cells": [
  {
   "cell_type": "code",
   "execution_count": 1,
   "metadata": {
    "scrolled": true
   },
   "outputs": [
    {
     "name": "stdout",
     "output_type": "stream",
     "text": [
      "D:\\Nutstore\\PhD\\Experiment\\EIS_data_transform\\WB-ras\\raw\n",
      "['20-00.TXT', '20-40.TXT']\n"
     ]
    },
    {
     "data": {
      "text/plain": [
       "<Figure size 640x480 with 1 Axes>"
      ]
     },
     "metadata": {},
     "output_type": "display_data"
    },
    {
     "name": "stdout",
     "output_type": "stream",
     "text": [
      "end\n"
     ]
    }
   ],
   "source": [
    "# _*_coding:utf-8_*_\n",
    "# author; Fukun Shi\n",
    "# 2019.04.13\n",
    "'''\n",
    "（0）减去培养液的影响。读取一个文件内所有文件，然后挨个减去培养的影响。生产单个文件。可以改成合并excel\n",
    "'''\n",
    "import numpy as np\n",
    "import pandas as pd\n",
    "import openpyxl as op\n",
    "import matplotlib.pyplot as plt\n",
    "import os\n",
    "\n",
    "def import_txt(filename, fl, fh):\n",
    "    EIS = pd.read_csv(filename,header=15,delimiter='\\t',skipfooter=205,engine='python')#pd.read_excel(filename)\n",
    "    EIS.columns = (['Frequency','Data_Real','Data_Image'])\n",
    "    #print(EIS.shape)\n",
    "    EIS = EIS.loc[(EIS.Frequency>=fl)&(EIS.Frequency<=fh)]\n",
    "    # EIS = EIS.values\n",
    "    return EIS \n",
    "\n",
    "fl = 3e3\n",
    "fh = 1e8\n",
    "\n",
    "filepath0 = 'D:\\\\Nutstore\\\\PhD\\\\Experiment\\\\EIS_data_transform\\\\WB-ras\\\\raw'   # 读取文件\n",
    "#filepath1 = 'D:\\\\Nutstore\\\\PhD\\\\Experiment\\\\EIS_data_transform\\\\P1_data\\\\Raw_data\\\\07-04-2017\\\\11 60ns\\\\11-00.xlsx'  # medium\n",
    "filepath1 = 'D:\\\\Nutstore\\\\PhD\\\\Experiment\\\\EIS_data_transform\\\\WB-ras\\\\medium_substrated' #保存\n",
    "\n",
    "filenames = os.listdir(filepath0)\n",
    "print(filepath0)\n",
    "print(filenames)\n",
    "\n",
    "domain0 = os.path.abspath(filepath0)\n",
    "fullpath0 = os.path.join(domain0,filenames[0])\n",
    "Z_s = import_txt(fullpath0,fl,fh)\n",
    "\n",
    "#Z_s.Data_Real = Z_s.Data_Real - Z_s[[1]]\n",
    "#print(Z_s)\n",
    "\n",
    "for filename in filenames[1:]:\n",
    "    domain1 = os.path.abspath(filepath0)\n",
    "    fullpath1 = os.path.join(domain1,filename)\n",
    "    Z = import_txt(fullpath1,fl,fh)\n",
    "    Z['Data_Real'] = Z['Data_Real'] - Z_s.iloc[:,1]\n",
    "    Z['Data_Image'] = Z['Data_Image'] - Z_s.iloc[:,2]\n",
    "    #Z.drop(['Frequency'],axis=1,inplace=True)\n",
    "    #Z.columns = ['Data_Real','Data_Image']\n",
    "    #Z_s.drop(['Data_Real','Data_Image'],axis=1,inplace=True)\n",
    "    #Z_s = pd.concat([Z_s,Z],axis=1)      # 用于把所有数据放在一个dataframe中。\n",
    "    domain2 = os.path.abspath(filepath1)\n",
    "    fullpath2 = os.path.join(domain2,filename.replace('.TXT','.xlsx'))  # 用replace替换字符，strip用于去除尾部字符串\n",
    "    Z.to_excel(fullpath2,index=False)\n",
    "    Z.plot(x='Data_Real', y='Data_Image') # Dataframe.plot() 是基于matplotlib的画图方法\n",
    "    plt.title(filename)\n",
    "    plt.xlabel('Re(Z)')\n",
    "    plt.ylabel(\"Im(Z)\")\n",
    "    plt.show()\n",
    "#print(Z_s.keys())\n",
    "\n",
    "\n",
    "\n",
    "print('end')"
   ]
  },
  {
   "cell_type": "code",
   "execution_count": null,
   "metadata": {},
   "outputs": [],
   "source": []
  },
  {
   "cell_type": "code",
   "execution_count": null,
   "metadata": {},
   "outputs": [],
   "source": [
    "# _*_coding:utf-8_*_\n",
    "# author; Fukun Shi\n",
    "# 2019.04\n",
    "'''\n",
    "（1）读取EIS的excel文件，减去培养液的影响 (旧版，单文件处理)\n",
    "'''\n",
    "\n",
    "import numpy as np\n",
    "import pandas as pd\n",
    "import openpyxl as op\n",
    "import matplotlib.pyplot as plt\n",
    "import os\n",
    "\n",
    "def import_excel(filename, fl, fh):\n",
    "    EIS = pd.read_excel(filename)\n",
    "    EIS.columns = (['Frequency','Data_Real','Data_Image'])\n",
    "    EIS = EIS.loc[(EIS.Frequency>=fl)&(EIS.Frequency<=fh)]\n",
    "    # EIS = EIS.values\n",
    "    return EIS \n",
    "\n",
    "fl = 3e3\n",
    "fh = 1e8\n",
    "\n",
    "filepath0 = 'D:\\\\Nutstore\\\\PhD\\\\Experiment\\\\EIS_data_transform\\\\P1_data\\\\Raw_data\\\\07-04-2017\\\\11 60ns'   \n",
    "filepath1 = 'D:\\\\Nutstore\\\\PhD\\\\Experiment\\\\EIS_data_transform\\\\P1_data\\\\Raw_data\\\\07-04-2017\\\\11 60ns\\\\11-00.xlsx'  # with cells\n",
    "filepath = 'D:\\\\Nutstore\\\\PhD\\\\Experiment\\\\EIS_data_transform\\\\P1_data\\\\P1_Medium_substrated\\\\07-04-2017\\\\11 60ns\\\\'\n",
    "\n",
    "Z_med  = import_excel(filename0, fl, fh)\n",
    "Z_cell = import_excel(filename1, fl, fh)\n",
    "\n",
    "R_inf = Z_med[Z_med.shape[0]-1,1]\n",
    "X_inf = Z_med[Z_med.shape[0]-1,2]\n",
    "\n",
    "Z_sub = np.zeros(len(Z_med)*3).reshape(Z_med.shape[0], Z_med.shape[1])\n",
    "Z_sub[:,0] = Z_med[:,0]\n",
    "Z_sub[:,1] = Z_cell[:,1] - Z_med[:,1] #+ R_inf\n",
    "Z_sub[:,2] = Z_cell[:,2] - Z_med[:,2] #+ X_inf\n",
    "\n",
    "Z = pd.DataFrame(Z_sub)\n",
    "Z.columns = (['Frequency','Data_Real','Data_Image'])\n",
    "Z.to_excel(filepath, index=False)\n",
    "\n",
    "Z.plot(x='Data_Real', y='Data_Image') # Dataframe.plot() 是基于matplotlib的画图方法\n",
    "plt.title('Nyquist Plot')\n",
    "plt.xlabel('Re(Z)')\n",
    "plt.ylabel(\"Im(Z)\")\n",
    "plt.show()\n",
    "print('end')"
   ]
  },
  {
   "cell_type": "code",
   "execution_count": null,
   "metadata": {},
   "outputs": [],
   "source": []
  }
 ],
 "metadata": {
  "kernelspec": {
   "display_name": "Python 3",
   "language": "python",
   "name": "python3"
  },
  "language_info": {
   "codemirror_mode": {
    "name": "ipython",
    "version": 3
   },
   "file_extension": ".py",
   "mimetype": "text/x-python",
   "name": "python",
   "nbconvert_exporter": "python",
   "pygments_lexer": "ipython3",
   "version": "3.6.8"
  }
 },
 "nbformat": 4,
 "nbformat_minor": 2
}
