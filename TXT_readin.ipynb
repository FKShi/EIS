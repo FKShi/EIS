{
 "cells": [
  {
   "cell_type": "code",
   "execution_count": 2,
   "metadata": {},
   "outputs": [
    {
     "data": {
      "text/plain": [
       "<Figure size 640x480 with 1 Axes>"
      ]
     },
     "metadata": {},
     "output_type": "display_data"
    },
    {
     "name": "stdout",
     "output_type": "stream",
     "text": [
      "End\n"
     ]
    }
   ],
   "source": [
    "# conding:utf8\n",
    "#!/usr/bin/env python3\n",
    "# Fukun Shi, 2019.04.21\n",
    "'''\n",
    "读取DRT，画出inverse impedance与raw data对比\n",
    "'''\n",
    "import pandas as pd\n",
    "import numpy as np\n",
    "import os\n",
    "import matplotlib.pyplot as plt\n",
    "\n",
    "# 读取DRT\n",
    "filepath0 = 'C:\\\\Users\\\\fukun\\\\Documents\\\\MATLAB\\\\P1DRT\\\\26-04-2017\\\\26 60ns\\\\2600.csv'#'D:\\\\Nutstore\\\\PhD\\\\Experiment\\\\EIS_data_transform\\\\P1_data\\\\P1DRT\\\\26-04-2017\\\\26 60ns\\\\2600.csv'\n",
    "# 读取原始数据\n",
    "filepath1 = 'D:\\\\Nutstore\\\\PhD\\\\Experiment\\\\EIS_data_transform\\\\P1_data\\\\P1_Medium_substrated\\\\26-04-2017\\\\26 60ns\\\\2600.xlsx'\n",
    "\n",
    "fl = 3e3\n",
    "fh = 1e7\n",
    "tl = 1/fh\n",
    "th = 1/fl\n",
    "\n",
    "gamma = pd.read_csv(filepath0,header=2)\n",
    "gamma.columns = ['Gamma','tau']\n",
    "gamma = gamma.loc[(gamma.tau>=tl)&(gamma.tau<=th)]\n",
    "gamma.reset_index(drop=True,inplace=True)\n",
    "#print(gamma.shape)\n",
    "freq = 1/gamma.tau\n",
    "#print(freq.iloc[2])\n",
    "w = freq*2*np.pi\n",
    "Z_DRT = np.zeros(3*len(gamma)).reshape(len(gamma),3)\n",
    "#print(Z_DRT.shape)\n",
    "Z_DRT = pd.DataFrame(Z_DRT,columns=['Frequency','Re_Z_DRT','Im_Z_DRT'])\n",
    "Z_DRT['Frequency'] = freq\n",
    "Z = 0 #(gamma['Gamma'][0])/(1+1j*w[j]*(gamma['tau'][0]))\n",
    "for j in range(len(freq)):\n",
    "    Z = (gamma['Gamma'])/(1+1j*w[j]*(gamma['tau']))\n",
    "        \n",
    "    Z_DRT['Re_Z_DRT'][j] = np.real(np.sum(Z))/100 + 6  # 输出的Gamma扩充了10倍频的数据\n",
    "    Z_DRT['Im_Z_DRT'][j] = np.imag(np.sum(Z))/100\n",
    "\n",
    "\n",
    "Z_raw = pd.read_excel(filepath1)\n",
    "Z_raw = Z_raw.loc[(Z_raw.Frequency<=fh)&(Z_raw.Frequency>=fl)]\n",
    "\n",
    "plt.plot(Z_DRT['Re_Z_DRT'],-Z_DRT['Im_Z_DRT'],'r--')\n",
    "plt.plot(Z_raw['Data_Real'],-Z_raw['Data_Image'],'k*')\n",
    "plt.show()\n",
    "print('End')"
   ]
  },
  {
   "cell_type": "code",
   "execution_count": 44,
   "metadata": {},
   "outputs": [
    {
     "name": "stdout",
     "output_type": "stream",
     "text": [
      "(17294.28411780163-22598.43969020211j)\n"
     ]
    }
   ],
   "source": [
    "Z = (gamma['Gamma'])/(1+1j*w[439]*(gamma['tau']))\n",
    "for i in range(len(gamma.tau)):\n",
    "        pass#Z += (gamma['Gamma'][i])/(1+1j*w[j]*(gamma['tau'][i]))\n",
    "print(np.sum(Z))"
   ]
  },
  {
   "cell_type": "code",
   "execution_count": null,
   "metadata": {},
   "outputs": [],
   "source": [
    "#!/usr/bin/env python3\n",
    "\n",
    "import pdb\n",
    "import os\n",
    "import numpy as np\n",
    "import constants\n",
    "# pdb.set_trace()\n",
    "\n",
    "# -------------------------------\n",
    "# Variable definitions:\n",
    "\n",
    "LogLevel = 'DEBUG'  # log level: choose info for less verbose output\n",
    "trace_b = 'TRACE: B'\n",
    "skiprows_txt = 21  # header rows inside the *.txt files\n",
    "skiprows_trace = 2  # line between traces blocks\n",
    "directory = os.getcwd()\n",
    "def main():\n",
    "    max_rows_tag = False\n",
    "    for filename in os.listdir(directory):\n",
    "        filename = os.fsdecode(filename)\n",
    "        if filename.endswith(\".TXT\"):\n",
    "            if max_rows_tag is False:\n",
    "                max_rows = get_max_rows(filename)\n",
    "                max_rows_tag = True\n",
    "            dataArray = readin_Data_from_file(filename, max_rows)\n",
    "            # fittedValues = process_data_from_file(dataArray)  # dataArray in the form [f, omega, Z, Y, epsilon, k]\n",
    "            # processed_results = processFittingResults(fittedValues)\n",
    "            # plot_results(processedResults)\n",
    "\n",
    "\n",
    "def get_max_rows(filename):\n",
    "    txt_file = open(filename)\n",
    "    for num, line in enumerate(txt_file, 1):\n",
    "        if trace_b in line:\n",
    "            max_rows = num - skiprows_txt - skiprows_trace\n",
    "            break\n",
    "    txt_file.close()\n",
    "    # print('number of rows per trace is: ' + str(max_rows))\n",
    "    return max_rows\n",
    "\n",
    "def readin_Data_from_file(filename, max_rows):\n",
    "    \"\"\"\n",
    "    data from txt files get read in, basic calculations for complex Z, Y, epsilon and k are done\n",
    "    \"\"\"\n",
    "    # print('going to process file: ', filename)\n",
    "    txt_file = open(filename, 'r')\n",
    "    try:\n",
    "        fileDataArray = np.loadtxt(txt_file, delimiter='\\t', skiprows=skiprows_txt, max_rows=max_rows)\n",
    "    except ValueError as v:\n",
    "        print('Error in file ' + filename, v.arg)\n",
    "    f = fileDataArray[:, 0]\n",
    "    omega = 2 * np.pi * f\n",
    "    Z_real = fileDataArray[:, 1]\n",
    "    Z_im = fileDataArray[:, 2]\n",
    "    Z = Z_real + 1j * Z_im\n",
    "    Y = 1 / Z\n",
    "    epsilon = (Y - 1j * omega * constants.cf) / (1j * omega * constants.c0)\n",
    "    k = -epsilon.imag * omega * constants.e0\n",
    "    txt_file.close()\n",
    "    return([f, omega, Z, Y, epsilon, k])\n",
    "\n",
    "filename = 'D:\\\\Nutstore\\\\PhD\\Experiment\\\\WB F344\\\\Restart TJ ECIS\\\\26-04-2017 60ns\\\\14-20.txt'\n"
   ]
  },
  {
   "cell_type": "code",
   "execution_count": 20,
   "metadata": {},
   "outputs": [
    {
     "name": "stdout",
     "output_type": "stream",
     "text": [
      "        Frequency        Re_Z        Im_Z\n",
      "0    3.162278e+03  789.710290 -162.840130\n",
      "1    3.349654e+03  783.857900 -164.030960\n",
      "2    3.548134e+03  778.033350 -165.242330\n",
      "3    3.758374e+03  772.235540 -166.485310\n",
      "4    3.981072e+03  766.462220 -167.771080\n",
      "5    4.216965e+03  760.710100 -169.110750\n",
      "6    4.466836e+03  754.974700 -170.515310\n",
      "7    4.731513e+03  749.250450 -171.995480\n",
      "8    5.011872e+03  743.530680 -173.561670\n",
      "9    5.308844e+03  737.807500 -175.223810\n",
      "10   5.623413e+03  732.071980 -176.991270\n",
      "11   5.956621e+03  726.314080 -178.872730\n",
      "12   6.309573e+03  720.522700 -180.876100\n",
      "13   6.683439e+03  714.685720 -183.008350\n",
      "14   7.079458e+03  708.790080 -185.275440\n",
      "15   7.498942e+03  702.821820 -187.682140\n",
      "16   7.943282e+03  696.766170 -190.231990\n",
      "17   8.413951e+03  690.607650 -192.927130\n",
      "18   8.912509e+03  684.330210 -195.768200\n",
      "19   9.440609e+03  677.917300 -198.754250\n",
      "20   1.000000e+04  671.352110 -201.882640\n",
      "21   1.059254e+04  664.617590 -205.148990\n",
      "22   1.122018e+04  657.696730 -208.547070\n",
      "23   1.188502e+04  650.572730 -212.068780\n",
      "24   1.258925e+04  643.229110 -215.704120\n",
      "25   1.333521e+04  635.650000 -219.441160\n",
      "26   1.412538e+04  627.820290 -223.266050\n",
      "27   1.496236e+04  619.725840 -227.163080\n",
      "28   1.584893e+04  611.353790 -231.114680\n",
      "29   1.678804e+04  602.692610 -235.101530\n",
      "..            ...         ...         ...\n",
      "111  1.883650e+06   19.112310  -40.036324\n",
      "112  1.995260e+06   18.140298  -38.406826\n",
      "113  2.113490e+06   17.212913  -36.816090\n",
      "114  2.238720e+06   16.331512  -35.263813\n",
      "115  2.371370e+06   15.496982  -33.749907\n",
      "116  2.511890e+06   14.709814  -32.274599\n",
      "117  2.660730e+06   13.970240  -30.838642\n",
      "118  2.818380e+06   13.277998  -29.442794\n",
      "119  2.985380e+06   12.632349  -28.087709\n",
      "120  3.162280e+06   12.032296  -26.774237\n",
      "121  3.349650e+06   11.476543  -25.503226\n",
      "122  3.548130e+06   10.963413  -24.275157\n",
      "123  3.758370e+06   10.491086  -23.090543\n",
      "124  3.981070e+06   10.057542  -21.949641\n",
      "125  4.216970e+06    9.660647  -20.852529\n",
      "126  4.466840e+06    9.298212  -19.799141\n",
      "127  4.731510e+06    8.967992  -18.789153\n",
      "128  5.011870e+06    8.667739  -17.822026\n",
      "129  5.308840e+06    8.395269  -16.897137\n",
      "130  5.623410e+06    8.148440  -16.013660\n",
      "131  5.956620e+06    7.925202  -15.170669\n",
      "132  6.309570e+06    7.723597  -14.367127\n",
      "133  6.683440e+06    7.541767  -13.601876\n",
      "134  7.079460e+06    7.377973  -12.873727\n",
      "135  7.498940e+06    7.230588  -12.181422\n",
      "136  7.943280e+06    7.098097  -11.523648\n",
      "137  8.413950e+06    6.979100  -10.899089\n",
      "138  8.912510e+06    6.872309  -10.306412\n",
      "139  9.440610e+06    6.776542   -9.744292\n",
      "140  1.000000e+07    6.690717   -9.211406\n",
      "\n",
      "[141 rows x 3 columns]\n"
     ]
    }
   ],
   "source": [
    "filename = 'C:\\\\Users\\\\fukun\\\\Documents\\\\MATLAB\\\\26-20_DRT_1e-3.txt'\n",
    "Z_r = pd.read_csv(filename,delimiter='\\t',usecols=[0,1,2])\n",
    "Z_r.columns=['Frequency','Re_Z','Im_Z']\n",
    "print(Z_r)"
   ]
  },
  {
   "cell_type": "code",
   "execution_count": null,
   "metadata": {},
   "outputs": [],
   "source": []
  }
 ],
 "metadata": {
  "kernelspec": {
   "display_name": "Python 3",
   "language": "python",
   "name": "python3"
  },
  "language_info": {
   "codemirror_mode": {
    "name": "ipython",
    "version": 3
   },
   "file_extension": ".py",
   "mimetype": "text/x-python",
   "name": "python",
   "nbconvert_exporter": "python",
   "pygments_lexer": "ipython3",
   "version": "3.6.8"
  }
 },
 "nbformat": 4,
 "nbformat_minor": 2
}
