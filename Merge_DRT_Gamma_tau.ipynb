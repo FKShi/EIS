{
 "cells": [
  {
   "cell_type": "code",
   "execution_count": 1,
   "metadata": {},
   "outputs": [
    {
     "name": "stdout",
     "output_type": "stream",
     "text": [
      "['0 pre.csv', '1 min.csv', '3 min.csv', '5 min.csv', '5_10 min.csv', '5_20 min.csv', '5_30 min.csv', 'i1 h.csv', 'i3 h.csv', 'i5 h.csv', 'i7 h.csv', 'i810 h.csv', 'i824 h.csv']\n"
     ]
    }
   ],
   "source": [
    "#_*_coding:utf-8_*_\n",
    "# author: fukun\n",
    "# 2019.4.23\n",
    "'''\n",
    "合并所有DRT到一个表格中\n",
    "'''\n",
    "import numpy as np\n",
    "import pandas as pd\n",
    "import os\n",
    "import matplotlib.pyplot as plt\n",
    "\n",
    "%matplotlib inline\n",
    "\n",
    "def read_file(filepath):\n",
    "    drt = pd.read_csv(filepath,header=2)\n",
    "    drt.columns = ['Gamma','tau']\n",
    "    drt = drt.loc[(drt.tau>=taul)&(drt.tau<=tauh)]\n",
    "    return drt\n",
    "\n",
    "fl = 3.1e3\n",
    "fh = 3e6\n",
    "taul = 1/fh\n",
    "tauh = 1/fl\n",
    "\n",
    "subdir0 = '\\\\Mean'\n",
    "subdir1 = '\\\\DRT 60ns'\n",
    "\n",
    "maindir = 'D:\\\\Nutstore\\\\PhD\\\\Experiment\\\\EIS_data_transform\\\\P1_data\\\\P1DRT'\n",
    "\n",
    "filepath = maindir + subdir0 + subdir1\n",
    "filenames = os.listdir(filepath)         # 读取全部文件名\n",
    "print(filenames)\n",
    "filepath0 = filepath + '\\\\' + filenames[0]\n",
    "DRT = read_file(filepath0)\n",
    "DRT.drop(['Gamma'],axis=1,inplace=True)\n",
    "DRT['tau']\n",
    "\n",
    "#plt.figure()\n",
    "for filename in filenames:\n",
    "    domain = os.path.abspath(filepath)   # 返回一个绝对路径名\n",
    "    info = os.path.join(domain,filename) # 将路径名和文件名组合成完整的文件路径\n",
    "    drt = read_file(info)\n",
    "    filename = filename.strip('.csv')    # 每列命名\n",
    "    DRT[filename] = drt['Gamma']\n",
    "    \n",
    "    '''drt.plot(x='tau',y='Gamma',logx=True,  fontsize=18,ylim=[0,310],yticks=[0,50,100,150,200,250,300])\n",
    "    plt.ylabel('G(t)',fontsize=18)\n",
    "    plt.xlabel('t (s)',fontsize=18)\n",
    "    plt.title(filename)'''\n",
    "\n",
    "#DRT.rename(columns=['Pre','1 min','3 min','5 min','10 min','20 min','30 min','1 h','3 h','5 h','7 h','10 h','24 h'],inplace=True)\n",
    "filepath1 = maindir + subdir0 + '\\\\DRT_merge.xlsx'\n",
    "DRT.to_excel(filepath1,index=False)\n",
    "\n",
    "#plt.xlabel('tau')\n",
    "#plt.show()   "
   ]
  },
  {
   "cell_type": "code",
   "execution_count": 5,
   "metadata": {},
   "outputs": [
    {
     "name": "stdout",
     "output_type": "stream",
     "text": [
      "[[ 643239.87058014  264069.62988001   11591.77030675]\n",
      " [  56334.8543744    14898.04522749    6155.66444242]\n",
      " [ 115664.56812585   22837.30702476    7904.07613206]\n",
      " [ 145894.24418028   21050.01694526    7192.64049025]\n",
      " [ 332762.09174251   27896.72631917    7249.7390094 ]\n",
      " [ 477393.05202152   28114.76446856    7386.23353793]\n",
      " [ 360100.8282319    27474.18800037    7501.03139182]\n",
      " [ 313414.77938734   18938.13857036    5889.10809458]\n",
      " [ 491523.67423777   37969.68500349    9575.8840935 ]\n",
      " [1347870.56668522   69809.00256897   13886.36234241]\n",
      " [2041370.41278551  269956.53699754   29178.16772778]\n",
      " [ 397382.04707388  279027.19957141   23902.74451312]\n",
      " [ 435380.78403372   38021.07888613   18840.4104195 ]]\n"
     ]
    }
   ],
   "source": [
    "center_tau = np.array([[1.55463E-6,3.78688E-6,8.62681E-5],\n",
    "[1.7751E-5,6.71229E-5,1.62452E-4],\n",
    "[8.64569E-6,4.3788E-5,1.26517E-4],\n",
    "[6.85428E-6,4.75059E-5,1.39031E-4],\n",
    "[3.00515E-6,3.58465E-5,1.37936E-4],\n",
    "[2.09471E-6,3.55685E-5,1.35387E-4],\n",
    "[2.777E-6,3.63978E-5,1.33315E-4],\n",
    "[3.19066E-6,5.28035E-5,1.69805E-4],\n",
    "[2.03449E-6,2.63368E-5,1.04429E-4],\n",
    "[7.41911E-7,1.43248E-5,7.20131E-5],\n",
    "[4.89867E-7,3.7043E-6,3.42722E-5],\n",
    "[2.51647E-6,3.58388E-6,4.18362E-5],\n",
    "[2.29684E-6,2.63012E-5,5.30774E-5]])\n",
    "center_freq = 1/center_tau\n",
    "print(center_freq)"
   ]
  },
  {
   "cell_type": "code",
   "execution_count": null,
   "metadata": {},
   "outputs": [],
   "source": []
  }
 ],
 "metadata": {
  "kernelspec": {
   "display_name": "Python 3",
   "language": "python",
   "name": "python3"
  },
  "language_info": {
   "codemirror_mode": {
    "name": "ipython",
    "version": 3
   },
   "file_extension": ".py",
   "mimetype": "text/x-python",
   "name": "python",
   "nbconvert_exporter": "python",
   "pygments_lexer": "ipython3",
   "version": "3.6.8"
  }
 },
 "nbformat": 4,
 "nbformat_minor": 2
}
